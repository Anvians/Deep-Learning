{
  "cells": [
    {
      "cell_type": "markdown",
      "metadata": {
        "id": "view-in-github",
        "colab_type": "text"
      },
      "source": [
        "<a href=\"https://colab.research.google.com/github/Anvians/Deep_Learning/blob/main/Transformers_DL.ipynb\" target=\"_parent\"><img src=\"https://colab.research.google.com/assets/colab-badge.svg\" alt=\"Open In Colab\"/></a>"
      ]
    },
    {
      "cell_type": "code",
      "source": [
        "pip install datasets"
      ],
      "metadata": {
        "id": "UZDFwboNpo4B"
      },
      "execution_count": null,
      "outputs": []
    },
    {
      "cell_type": "code",
      "execution_count": 3,
      "metadata": {
        "id": "TfLwe6ceoXxc"
      },
      "outputs": [],
      "source": [
        "from transformers import BertTokenizer, BertForSequenceClassification, Trainer, TrainingArguments\n",
        "from datasets import load_dataset\n",
        "import torch\n",
        "from sklearn.metrics import accuracy_score, precision_recall_fscore_support\n",
        "import torch.nn as nn"
      ]
    },
    {
      "cell_type": "code",
      "execution_count": null,
      "metadata": {
        "id": "9pbTU8KpoZvg"
      },
      "outputs": [],
      "source": [
        "dataset = load_dataset(\"liar\",trust_remote_code=True)"
      ]
    },
    {
      "cell_type": "code",
      "execution_count": 5,
      "metadata": {
        "id": "2a2aNe57odDK"
      },
      "outputs": [],
      "source": [
        "tokenizer = BertTokenizer.from_pretrained('bert-base-uncased')\n",
        "\n",
        "# Tokenize the dataset\n",
        "def tokenize_function(examples):\n",
        "    return tokenizer(examples['statement'], padding=\"max_length\", truncation=True)"
      ]
    },
    {
      "cell_type": "code",
      "execution_count": 6,
      "metadata": {
        "id": "yz_8PXHNoe0s"
      },
      "outputs": [],
      "source": [
        "train_dataset = dataset['train'].map(tokenize_function, batched=True, remove_columns=[\"statement\"])\n",
        "test_dataset = dataset['test'].map(tokenize_function, batched=True, remove_columns=[\"statement\"])"
      ]
    },
    {
      "cell_type": "markdown",
      "metadata": {
        "id": "j7TNJKAwxTBo"
      },
      "source": [
        "# Building my own Transformer"
      ]
    },
    {
      "cell_type": "code",
      "source": [
        "device = 'cuda' if torch.cuda.is_available() else 'cpu'"
      ],
      "metadata": {
        "id": "6ygLAe32Afaf"
      },
      "execution_count": 10,
      "outputs": []
    },
    {
      "cell_type": "markdown",
      "source": [
        "## Encoding\n"
      ],
      "metadata": {
        "id": "WM9Mq1q7-2WW"
      }
    },
    {
      "cell_type": "markdown",
      "source": [
        "**Positional Encoding**"
      ],
      "metadata": {
        "id": "87GXnowSsRcc"
      }
    },
    {
      "cell_type": "code",
      "source": [
        "class PositionalEncoding(nn.Module):\n",
        "    def __init__(self, embedding_dim, max_seq_length):\n",
        "        super().__init__()\n",
        "        self.encoding = torch.zeros(max_seq_length, embedding_dim)\n",
        "        position = torch.arange(0, max_seq_length, dtype=torch.float).unsqueeze(1)\n",
        "        div_term = torch.exp(torch.arange(0, embedding_dim, 2).float() * (-torch.log(torch.tensor(10000.0)) / embedding_dim))\n",
        "\n",
        "        self.encoding[:, 0::2] = torch.sin(position / div_term)\n",
        "        self.encoding[:, 1::2] = torch.cos(position / div_term)\n",
        "        self.encoding = self.encoding.unsqueeze(0)  # Shape: (1, max_seq_length, embedding_dim)\n",
        "\n",
        "    def forward(self, x):\n",
        "        seq_length = x.size(1)\n",
        "        return x + self.encoding[:, :seq_length, :].to(x.device)"
      ],
      "metadata": {
        "id": "yjaYE8cIHGuk"
      },
      "execution_count": 11,
      "outputs": []
    },
    {
      "cell_type": "markdown",
      "source": [
        "**Multihead Attention**"
      ],
      "metadata": {
        "id": "rB-07W8KBl29"
      }
    },
    {
      "cell_type": "code",
      "source": [
        "class MultiheadAttention(nn.Module):\n",
        "    def __init__(self, embedding_dim, num_heads):\n",
        "        super().__init__()\n",
        "        self.num_heads = num_heads\n",
        "        self.head_dim = embedding_dim // num_heads\n",
        "\n",
        "        self.q_layer = nn.Linear(embedding_dim, embedding_dim)\n",
        "        self.k_layer = nn.Linear(embedding_dim, embedding_dim)\n",
        "        self.v_layer = nn.Linear(embedding_dim, embedding_dim)\n",
        "        self.output_layer = nn.Linear(embedding_dim, embedding_dim)\n",
        "\n",
        "        self.scale = torch.sqrt(torch.FloatTensor([self.head_dim])).to(torch.device(\"cuda\" if torch.cuda.is_available() else \"cpu\"))\n",
        "\n",
        "    def forward(self, q, k, v, mask=None):\n",
        "        batch_size, seq_len, embedding_dim = q.size()\n",
        "\n",
        "        Q = self.q_layer(q).view(batch_size, seq_len, self.num_heads, self.head_dim).permute(0, 2, 1, 3)\n",
        "        K = self.k_layer(k).view(batch_size, seq_len, self.num_heads, self.head_dim).permute(0, 2, 1, 3)\n",
        "        V = self.v_layer(v).view(batch_size, seq_len, self.num_heads, self.head_dim).permute(0, 2, 1, 3)\n",
        "\n",
        "        atten_score = torch.matmul(Q, K.transpose(-2, -1)) / self.scale\n",
        "        if mask is not None:\n",
        "            atten_score = atten_score.masked_fill(mask == 0, -1e9)\n",
        "\n",
        "        atten_weight = torch.softmax(atten_score, dim=-1)\n",
        "        atten_output = torch.matmul(atten_weight, V)\n",
        "\n",
        "        atten_output = atten_output.permute(0, 2, 1, 3).contiguous().view(batch_size, seq_len, embedding_dim)\n",
        "        return self.output_layer(atten_output), atten_weight"
      ],
      "metadata": {
        "id": "aNFhjCxYCfRD"
      },
      "execution_count": 12,
      "outputs": []
    },
    {
      "cell_type": "markdown",
      "source": [
        "**ADD and normalization**"
      ],
      "metadata": {
        "id": "QX9BrCri78GL"
      }
    },
    {
      "cell_type": "code",
      "source": [
        "class AddNorm(nn.Module):\n",
        "    def __init__(self, embedding_dim):\n",
        "        super().__init__()\n",
        "        self.norm = nn.LayerNorm(embedding_dim)\n",
        "\n",
        "    def forward(self, x, sublayer_output):\n",
        "        return self.norm(x + sublayer_output)"
      ],
      "metadata": {
        "id": "BHxZ28vj86Oj"
      },
      "execution_count": 13,
      "outputs": []
    },
    {
      "cell_type": "markdown",
      "source": [
        "**Feed Forward NN**"
      ],
      "metadata": {
        "id": "YKTkGM6J9lED"
      }
    },
    {
      "cell_type": "code",
      "source": [
        "class FeedForward(nn.Module):\n",
        "    def __init__(self, embedding_dim, hidden_dim):\n",
        "        super().__init__()\n",
        "        self.layer1 = nn.Linear(embedding_dim, hidden_dim)\n",
        "        self.layer2 = nn.Linear(hidden_dim, embedding_dim)\n",
        "        self.relu = nn.ReLU()\n",
        "\n",
        "    def forward(self, x):\n",
        "        return self.layer2(self.relu(self.layer1(x)))"
      ],
      "metadata": {
        "id": "JDXV3Oz79m2t"
      },
      "execution_count": 14,
      "outputs": []
    },
    {
      "cell_type": "code",
      "source": [
        "class TransformerEncoderBlock(nn.Module):\n",
        "    def __init__(self, embedding_dim=768, num_heads=12, ff_hidden_dim=3072, dropout=0.1):\n",
        "        super().__init__()\n",
        "        self.attention = MultiheadAttention(embedding_dim, num_heads)\n",
        "        self.norm1 = nn.LayerNorm(embedding_dim)\n",
        "        self.ffn = FeedForward(embedding_dim, ff_hidden_dim)\n",
        "        self.norm2 = nn.LayerNorm(embedding_dim)\n",
        "        self.dropout = nn.Dropout(dropout)\n",
        "\n",
        "    def forward(self, x, mask=None):\n",
        "        # Multihead Attention + Residual Connection + Layer Norm\n",
        "        attn_output, _ = self.attention(x, x, x, mask)\n",
        "        x = self.norm1(x + self.dropout(attn_output))\n",
        "\n",
        "        # Feed-Forward + Residual Connection + Layer Norm\n",
        "        ffn_output = self.ffn(x)\n",
        "        x = self.norm2(x + self.dropout(ffn_output))\n",
        "\n",
        "        return x"
      ],
      "metadata": {
        "id": "1W_oz9pZ9oev"
      },
      "execution_count": 15,
      "outputs": []
    },
    {
      "cell_type": "code",
      "source": [
        "class TransformerEncoder(nn.Module):\n",
        "    def __init__(self, num_layers, vocab_size, embedding_dim, num_heads, hidden_dim, max_seq_length):\n",
        "        super().__init__()\n",
        "        self.embedding = nn.Embedding(vocab_size, embedding_dim)\n",
        "        self.positional_encoding = PositionalEncoding(embedding_dim, max_seq_length)\n",
        "        self.encoder_layers = nn.ModuleList([TransformerEncoderBlock(embedding_dim, num_heads, hidden_dim) for _ in range(num_layers)])\n",
        "\n",
        "    def forward(self, input_ids):\n",
        "        x = self.embedding(input_ids)\n",
        "        x = self.positional_encoding(x)\n",
        "        for layer in self.encoder_layers:\n",
        "            x = layer(x)\n",
        "        return x\n"
      ],
      "metadata": {
        "id": "T1H7OdDl-trm"
      },
      "execution_count": 16,
      "outputs": []
    },
    {
      "cell_type": "code",
      "source": [
        "from torch.utils.data import DataLoader\n",
        "num_layers = 6\n",
        "embedding_dim = 768\n",
        "num_heads = 12\n",
        "hidden_dim = 3072\n",
        "max_seq_length = 512\n",
        "vocab_size = tokenizer.vocab_size\n",
        "\n",
        "encoder = TransformerEncoder(num_layers, vocab_size, embedding_dim, num_heads, hidden_dim, max_seq_length).to(device)\n",
        "\n",
        "batch_size = 8  # Adjust based on memory\n",
        "train_dataloader = DataLoader(train_dataset, batch_size=batch_size, shuffle=True)\n",
        "\n",
        "for batch in train_dataloader:\n",
        "    input_ids = torch.stack([torch.tensor(ids, dtype=torch.long) for ids in batch['input_ids']]).to(device)\n",
        "    output = encoder(input_ids)\n",
        "\n",
        "\n",
        "\n"
      ],
      "metadata": {
        "colab": {
          "base_uri": "https://localhost:8080/"
        },
        "id": "Nt7OUgDr_LQN",
        "outputId": "74d75c30-b80e-42cb-ee7f-11593326315f"
      },
      "execution_count": 30,
      "outputs": [
        {
          "output_type": "stream",
          "name": "stderr",
          "text": [
            "<ipython-input-30-ef26bc0b97c8>:15: UserWarning: To copy construct from a tensor, it is recommended to use sourceTensor.clone().detach() or sourceTensor.clone().detach().requires_grad_(True), rather than torch.tensor(sourceTensor).\n",
            "  input_ids = torch.stack([torch.tensor(ids, dtype=torch.long) for ids in batch['input_ids']]).to(device)\n"
          ]
        }
      ]
    },
    {
      "cell_type": "markdown",
      "source": [
        "##Decoding"
      ],
      "metadata": {
        "id": "-PqYRwFO-w6b"
      }
    },
    {
      "cell_type": "code",
      "source": [
        "class TransformerDecoderBlock(nn.Module):\n",
        "    def __init__(self, embedding_dim, num_heads, ff_hidden_dim, dropout=0.1):\n",
        "        super().__init__()\n",
        "\n",
        "        self.self_attention = MultiheadAttention(embedding_dim, num_heads)  # Masked Self-Attention\n",
        "        self.norm1 = nn.LayerNorm(embedding_dim)\n",
        "        self.dropout1 = nn.Dropout(dropout)\n",
        "\n",
        "        self.encoder_decoder_attention = MultiheadAttention(embedding_dim, num_heads)  # Encoder-Decoder Attention\n",
        "        self.norm2 = nn.LayerNorm(embedding_dim)\n",
        "        self.dropout2 = nn.Dropout(dropout)\n",
        "\n",
        "        self.ffn = nn.Sequential(\n",
        "            nn.Linear(embedding_dim, ff_hidden_dim),\n",
        "            nn.ReLU(),\n",
        "            nn.Linear(ff_hidden_dim, embedding_dim)\n",
        "        )\n",
        "        self.norm3 = nn.LayerNorm(embedding_dim)\n",
        "        self.dropout3 = nn.Dropout(dropout)\n",
        "\n",
        "    def forward(self, x, encoder_output, mask=None):\n",
        "        # Masked Multi-Head Self-Attention (Decoder can’t see future tokens)\n",
        "        _x, _ = self.self_attention(x, x, x, mask)\n",
        "        x = self.norm1(x + self.dropout1(_x))  # Add & Norm\n",
        "\n",
        "        # Encoder-Decoder Cross-Attention (Queries from decoder, Keys/Values from encoder)\n",
        "        _x, _ = self.encoder_decoder_attention(x, encoder_output, encoder_output)\n",
        "        x = self.norm2(x + self.dropout2(_x))  # Add & Norm\n",
        "\n",
        "        # Feed-Forward Network\n",
        "        _x = self.ffn(x)\n",
        "        x = self.norm3(x + self.dropout3(_x))  # Add & Norm\n",
        "\n",
        "        return x\n"
      ],
      "metadata": {
        "id": "7VCS-Syf_JRY"
      },
      "execution_count": 24,
      "outputs": []
    },
    {
      "cell_type": "code",
      "source": [
        "# Define decoder block\n",
        "decoder_block = TransformerDecoderBlock(embedding_dim=768, num_heads=8, ff_hidden_dim=2048).to(device)\n",
        "\n",
        "# Dummy tensor for decoder input (assume batch_size=1, seq_len=10)\n",
        "decoder_input = torch.rand(1, 10, 768).to(device)\n",
        "\n",
        "# Assume encoder output is ready\n",
        "encoder_output = torch.rand(1, 10, 768).to(device)\n",
        "\n",
        "# Apply decoder block\n",
        "decoder_output = decoder_block(decoder_input, encoder_output)\n",
        "\n",
        "print(\"Decoder Output Shape:\", decoder_output.shape)  # Expected: (batch_size, seq_len, embedding_dim)\n"
      ],
      "metadata": {
        "colab": {
          "base_uri": "https://localhost:8080/"
        },
        "id": "RqDM7RrRB9bo",
        "outputId": "14f81952-7944-4ae2-ed34-f960bb2173d4"
      },
      "execution_count": 28,
      "outputs": [
        {
          "output_type": "stream",
          "name": "stdout",
          "text": [
            "Decoder Output Shape: torch.Size([1, 10, 768])\n"
          ]
        }
      ]
    },
    {
      "cell_type": "code",
      "source": [
        "import torch\n",
        "import torch.nn as nn\n",
        "\n",
        "class Transformer(nn.Module):\n",
        "    def __init__(self,\n",
        "                 src_vocab_size,\n",
        "                 tgt_vocab_size,\n",
        "                 embedding_dim=512,\n",
        "                 num_heads=8,\n",
        "                 ff_hidden_dim=2048,\n",
        "                 num_layers=6,\n",
        "                 dropout=0.1):\n",
        "        super().__init__()\n",
        "\n",
        "        self.src_embedding = nn.Embedding(src_vocab_size, embedding_dim)\n",
        "        self.tgt_embedding = nn.Embedding(tgt_vocab_size, embedding_dim)\n",
        "        self.positional_encoding = PositionalEncoding(embedding_dim, dropout)\n",
        "\n",
        "        # Stack 6 encoder blocks\n",
        "        self.encoder_layers = nn.ModuleList([\n",
        "            TransformerEncoderBlock(embedding_dim, num_heads, ff_hidden_dim, dropout)\n",
        "            for _ in range(num_layers)\n",
        "        ])\n",
        "\n",
        "        # Stack 6 decoder blocks\n",
        "        self.decoder_layers = nn.ModuleList([\n",
        "            TransformerDecoderBlock(embedding_dim, num_heads, ff_hidden_dim, dropout)\n",
        "            for _ in range(num_layers)\n",
        "        ])\n",
        "\n",
        "        self.final_linear = nn.Linear(embedding_dim, tgt_vocab_size)\n",
        "\n",
        "    def encode(self, src, src_mask=None):\n",
        "        src = self.src_embedding(src)\n",
        "        src = self.positional_encoding(src)\n",
        "        for layer in self.encoder_layers:\n",
        "            src = layer(src, src_mask)\n",
        "        return src  # Output of encoder\n",
        "\n",
        "    def decode(self, tgt, encoder_output, tgt_mask=None):\n",
        "        tgt = self.tgt_embedding(tgt)\n",
        "        tgt = self.positional_encoding(tgt)\n",
        "        for layer in self.decoder_layers:\n",
        "            tgt = layer(tgt, encoder_output, tgt_mask)\n",
        "        return tgt  # Output of decoder\n",
        "\n",
        "    def forward(self, src, tgt, src_mask=None, tgt_mask=None):\n",
        "        encoder_output = self.encode(src, src_mask)\n",
        "        decoder_output = self.decode(tgt, encoder_output, tgt_mask)\n",
        "        return self.final_linear(decoder_output)  # Final projection to vocabulary size\n"
      ],
      "metadata": {
        "id": "STNQ8f4BB-cZ"
      },
      "execution_count": 29,
      "outputs": []
    }
  ],
  "metadata": {
    "colab": {
      "provenance": [],
      "gpuType": "T4",
      "authorship_tag": "ABX9TyNNtJLUq0zJbsFxkroK8BAY",
      "include_colab_link": true
    },
    "kernelspec": {
      "display_name": "Python 3",
      "name": "python3"
    },
    "language_info": {
      "name": "python"
    },
    "accelerator": "GPU"
  },
  "nbformat": 4,
  "nbformat_minor": 0
}